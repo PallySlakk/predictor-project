{
 "cells": [
  {
   "cell_type": "markdown",
   "metadata": {},
   "source": [
    "# Exploratory Data Analysis: Hospital Readmissions\n",
    "## MSDS692 - Data Science Practicum\n",
    "### Sai Teja Lakkapally\n",
    "\n",
    "This notebook performs comprehensive exploratory data analysis on hospital readmission data integrated with social determinants of health."
   ]
  },
  {
   "cell_type": "code",
   "execution_count": null,
   "metadata": {},
   "outputs": [],
   "source": [
    "# Import libraries\n",
    "import pandas as pd\n",
    "import numpy as np\n",
    "import matplotlib.pyplot as plt\n",
    "import seaborn as sns\n",
    "import plotly.express as px\n",
    "import plotly.graph_objects as go\n",
    "from plotly.subplots import make_subplots\n",
    "import warnings\n",
    "warnings.filterwarnings('ignore')\n",
    "\n",
    "# Set style\n",
    "plt.style.use('seaborn-v0_8')\n",
    "sns.set_palette(\"husl\")\n",
    "pd.set_option('display.max_columns', 50)\n",
    "\n",
    "print(\"Libraries imported successfully!\")"
   ]
  },
  {
   "cell_type": "code",
   "execution_count": null,
   "metadata": {},
   "outputs": [],
   "source": [
    "# Import project modules\n",
    "import sys\n",
    "sys.path.append('../src')\n",
    "\n",
    "from etl import DataETL\n",
    "from features import FeatureEngineer"
   ]
  },
  {
   "cell_type": "markdown",
   "metadata": {},
   "source": [
    "## 1. Data Loading and Initial Exploration"
   ]
  },
  {
   "cell_type": "code",
   "execution_count": null,
   "metadata": {},
   "outputs": [],
   "source": [
    "# Load data\n",
    "print(\"Loading data...\")\n",
    "etl = DataETL()\n",
    "data = etl.run_pipeline()\n",
    "\n",
    "print(f\"Dataset shape: {data.shape}\")\n",
    "print(f\"Number of patients: {data['patient_id'].nunique()}\")\n",
    "print(f\"Number of hospitals: {data['hospital_id'].nunique()}\")\n",
    "print(f\"Number of counties: {data['FIPS'].nunique()}\")"
   ]
  },
  {
   "cell_type": "code",
   "execution_count": null,
   "metadata": {},
   "outputs": [],
   "source": [
    "# Basic dataset info\n",
    "print(\"Dataset Info:\")\n",
    "print(\"=\" * 50)\n",
    "data.info()"
   ]
  },
  {
   "cell_type": "code",
   "execution_count": null,
   "metadata": {},
   "outputs": [],
   "source": [
    "# Display first few rows\n",
    "print(\"First 5 rows:\")\n",
    "print(\"=\" * 50)\n",
    "data.head()"
   ]
  },
  {
   "cell_type": "code",
   "execution_count": null,
   "metadata": {},
   "outputs": [],
   "source": [
    "# Check for missing values\n",
    "print(\"Missing Values Analysis:\")\n",
    "print(\"=\" * 50)\n",
    "\n",
    "missing_data = data.isnull().sum()\n",
    "missing_percent = (missing_data / len(data)) * 100\n",
    "\n",
    "missing_df = pd.DataFrame({\n",
    "    'Missing Count': missing_data,\n",
    "    'Missing Percentage': missing_percent\n",
    "})\n",
    "\n",
    "missing_df = missing_df[missing_df['Missing Count'] > 0].sort_values('Missing Percentage', ascending=False)\n",
    "print(missing_df)\n",
    "\n",
    "print(f\"\\nTotal columns with missing values: {len(missing_df)}\")"
   ]
  },
  {
   "cell_type": "markdown",
   "metadata": {},
   "source": [
    "## 2. Target Variable Analysis"
   ]
  },
  {
   "cell_type": "code",
   "execution_count": null,
   "metadata": {},
   "outputs": [],
   "source": [
    "# Target variable distribution\n",
    "print(\"Target Variable - Readmission Status:\")\n",
    "print(\"=\" * 50)\n",
    "\n",
    "readmission_counts = data['readmitted'].value_counts()\n",
    "readmission_percentages = data['readmitted'].value_counts(normalize=True) * 100\n",
    "\n",
    "target_summary = pd.DataFrame({\n",
    "    'Count': readmission_counts,\n",
    "    'Percentage': readmission_percentages\n",
    "})\n",
    "\n",
    "print(target_summary)\n",
    "\n",
    "# 30-day readmission rate\n",
    "readmission_30_rate = data['readmitted_30'].mean() * 100\n",
    "print(f\"\\n30-day Readmission Rate: {readmission_30_rate:.2f}%\")"
   ]
  },
  {
   "cell_type": "code",
   "execution_count": null,
   "metadata": {},
   "outputs": [],
   "source": [
    "# Visualize target distribution\n",
    "fig, (ax1, ax2) = plt.subplots(1, 2, figsize=(15, 6))\n",
    "\n",
    "# Readmission categories\n",
    "colors = ['#2ecc71', '#e74c3c', '#f39c12']\n",
    "wedges, texts, autotexts = ax1.pie(readmission_counts.values, \n",
    "                                   labels=readmission_counts.index,\n",
    "                                   autopct='%1.1f%%',\n",
    "                                   colors=colors,\n",
    "                                   startangle=90)\n",
    "ax1.set_title('Readmission Categories Distribution', fontsize=14, fontweight='bold')\n",
    "\n",
    "# 30-day readmission\n",
    "readmission_30_counts = data['readmitted_30'].value_counts()\n",
    "bars = ax2.bar(['Not Readmitted', 'Readmitted (<30 days)'], \n",
    "               readmission_30_counts.values, \n",
    "               color=['#3498db', '#e74c3c'])\n",
    "ax2.set_title('30-Day Readmission Distribution', fontsize=14, fontweight='bold')\n",
    "ax2.set_ylabel('Number of Patients')\n",
    "\n",
    "# Add value labels on bars\n",
    "for bar in bars:\n",
    "    height = bar.get_height()\n",
    "    ax2.text(bar.get_x() + bar.get_width()/2., height + 100,\n",
    "             f'{height:,}', ha='center', va='bottom')\n",
    "\n",
    "plt.tight_layout()\n",
    "plt.show()"
   ]
  },
  {
   "cell_type": "markdown",
   "metadata": {},
   "source": [
    "## 3. Medical Features Analysis"
   ]
  },
  {
   "cell_type": "code",
   "execution_count": null,
   "metadata": {},
   "outputs": [],
   "source": [
    "# Select key medical features\n",
    "medical_features = [\n",
    "    'length_of_stay', 'num_lab_procedures', 'num_procedures',\n",
    "    'num_medications', 'number_outpatient', 'number_emergency',\n",
    "    'number_inpatient', 'number_diagnoses', 'age'\n",
    "]\n",
    "\n",
    "print(\"Medical Features Summary Statistics:\")\n",
    "print(\"=\" * 50)\n",
    "medical_summary = data[medical_features].describe()\n",
    "print(medical_summary)"
   ]
  },
  {
   "cell_type": "code",
   "execution_count": null,
   "metadata": {},
   "outputs": [],
   "source": [
    "# Distribution of key medical features\n",
    "fig, axes = plt.subplots(3, 3, figsize=(18, 12))\n",
    "axes = axes.ravel()\n",
    "\n",
    "for i, feature in enumerate(medical_features):\n",
    "    if i < len(axes):\n",
    "        axes[i].hist(data[feature], bins=30, alpha=0.7, color='skyblue', edgecolor='black')\n",
    "        axes[i].set_title(f'Distribution of {feature.replace(\"_\", \" \").title()}', fontweight='bold')\n",
    "        axes[i].set_xlabel(feature.replace('_', ' ').title())\n",
    "        axes[i].set_ylabel('Frequency')\n",
    "\n",
    "plt.tight_layout()\n",
    "plt.show()"
   ]
  },
  {
   "cell_type": "code",
   "execution_count": null,
   "metadata": {},
   "outputs": [],
   "source": [
    "# Medical features vs readmission\n",
    "fig, axes = plt.subplots(3, 3, figsize=(18, 12))\n",
    "axes = axes.ravel()\n",
    "\n",
    "top_medical_features = medical_features[:9]  # Limit to 9 for subplot\n",
    "\n",
    "for i, feature in enumerate(top_medical_features):\n",
    "    if i < len(axes):\n",
    "        # Create boxplot\n",
    "        readmitted_data = data[data['readmitted_30'] == 1][feature]\n",
    "        not_readmitted_data = data[data['readmitted_30'] == 0][feature]\n",
    "        \n",
    "        box_data = [not_readmitted_data, readmitted_data]\n",
    "        axes[i].boxplot(box_data, labels=['Not Readmitted', 'Readmitted'])\n",
    "        axes[i].set_title(f'{feature.replace(\"_\", \" \").title()} vs Readmission', fontweight='bold')\n",
    "        axes[i].set_ylabel(feature.replace('_', ' ').title())\n",
    "\n",
    "plt.tight_layout()\n",
    "plt.show()"
   ]
  },
  {
   "cell_type": "markdown",
   "metadata": {},
   "source": [
    "## 4. Social Determinants of Health Analysis"
   ]
  },
  {
   "cell_type": "code",
   "execution_count": null,
   "metadata": {},
   "outputs": [],
   "source": [
    "# SVI theme analysis\n",
    "svi_columns = ['RPL_THEME1', 'RPL_THEME2', 'RPL_THEME3', 'RPL_THEME4', 'RPL_TOTAL']\n",
    "\n",
    "print(\"Social Vulnerability Index (SVI) Summary:\")\n",
    "print(\"=\" * 50)\n",
    "svi_summary = data[svi_columns].describe()\n",
    "print(svi_summary)"
   ]
  },
  {
   "cell_type": "code",
   "execution_count": null,
   "metadata": {},
   "outputs": [],
   "source": [
    "# SVI themes distribution\n",
    "fig, axes = plt.subplots(2, 3, figsize=(18, 10))\n",
    "axes = axes.ravel()\n",
    "\n",
    "svi_themes = [\n",
    "    ('RPL_THEME1', 'Socioeconomic Status'),\n",
    "    ('RPL_THEME2', 'Household Composition'),\n",
    "    ('RPL_THEME3', 'Minority Status/Language'),\n",
    "    ('RPL_THEME4', 'Housing/Transportation'),\n",
    "    ('RPL_TOTAL', 'Overall SVI')\n",
    "]\n",
    "\n",
    "for i, (col, title) in enumerate(svi_themes):\n",
    "    if i < len(axes):\n",
    "        axes[i].hist(data[col], bins=30, alpha=0.7, color='lightcoral', edgecolor='black')\n",
    "        axes[i].set_title(f'Distribution of {title}', fontweight='bold')\n",
    "        axes[i].set_xlabel('SVI Score')\n",
    "        axes[i].set_ylabel('Frequency')\n",
    "\n",
    "# Remove empty subplot\n",
    "fig.delaxes(axes[5])\n",
    "plt.tight_layout()\n",
    "plt.show()"
   ]
  },
  {
   "cell_type": "code",
   "execution_count": null,
   "metadata": {},
   "outputs": [],
   "source": [
    "# Readmission rates by SVI quartiles\n",
    "data['SVI_QUARTILE'] = pd.qcut(data['RPL_TOTAL'], 4, labels=['Q1 (Low)', 'Q2', 'Q3', 'Q4 (High)'])\n",
    "\n",
    "readmission_by_svi = data.groupby('SVI_QUARTILE')['readmitted_30'].agg(['mean', 'count'])\n",
    "readmission_by_svi['readmission_rate'] = readmission_by_svi['mean'] * 100\n",
    "readmission_by_svi = readmission_by_svi.rename(columns={'count': 'patient_count'})\n",
    "\n",
    "print(\"Readmission Rates by SVI Quartiles:\")\n",
    "print(\"=\" * 50)\n",
    "print(readmission_by_svi[['readmission_rate', 'patient_count']])"
   ]
  },
  {
   "cell_type": "code",
   "execution_count": null,
   "metadata": {},
   "outputs": [],
   "source": [
    "# Visualize readmission rates by SVI quartiles\n",
    "plt.figure(figsize=(10, 6))\n",
    "bars = plt.bar(readmission_by_svi.index.astype(str), \n",
    "               readmission_by_svi['readmission_rate'], \n",
    "               color=['#2ecc71', '#f39c12', '#e67e22', '#e74c3c'])\n",
    "\n",
    "plt.title('30-Day Readmission Rates by Social Vulnerability Quartiles', \n",
    "          fontsize=14, fontweight='bold')\n",
    "plt.xlabel('Social Vulnerability Index Quartiles')\n",
    "plt.ylabel('Readmission Rate (%)')\n",
    "plt.xticks(rotation=45)\n",
    "\n",
    "# Add value labels on bars\n",
    "for bar in bars:\n",
    "    height = bar.get_height()\n",
    "    plt.text(bar.get_x() + bar.get_width()/2., height + 0.1,\n",
    "             f'{height:.1f}%', ha='center', va='bottom')\n",
    "\n",
    "plt.grid(axis='y', alpha=0.3)\n",
    "plt.tight_layout()\n",
    "plt.show()"
   ]
  },
  {
   "cell_type": "markdown",
   "metadata": {},
   "source": [
    "## 5. Demographic Analysis"
   ]
  },
  {
   "cell_type": "code",
   "execution_count": null,
   "metadata": {},
   "outputs": [],
   "source": [
    "# Demographic features analysis\n",
    "demographic_features = ['age', 'gender', 'race']\n",
    "\n",
    "print(\"Demographic Summary:\")\n",
    "print(\"=\" * 50)\n",
    "\n",
    "# Age distribution\n",
    "print(\"Age Statistics:\")\n",
    "print(data['age'].describe())\n",
    "\n",
    "# Gender distribution\n",
    "print(\"\\nGender Distribution:\")\n",
    "print(data['gender'].value_counts())\n",
    "\n",
    "# Race distribution\n",
    "print(\"\\nRace Distribution:\")\n",
    "print(data['race'].value_counts())"
   ]
  },
  {
   "cell_type": "code",
   "execution_count": null,
   "metadata": {},
   "outputs": [],
   "source": [
    "# Demographic visualizations\n",
    "fig, axes = plt.subplots(2, 2, figsize=(15, 10))\n",
    "\n",
    # Age distribution\n",
    "axes[0,0].hist(data['age'], bins=20, alpha=0.7, color='skyblue', edgecolor='black')\n",
    "axes[0,0].set_title('Age Distribution', fontweight='bold')\n",
    "axes[0,0].set_xlabel('Age')\n",
    "axes[0,0].set_ylabel('Frequency')\n",
    "\n",
    # Gender distribution\n",
    "gender_counts = data['gender'].value_counts()\n",
    "axes[0,1].pie(gender_counts.values, labels=gender_counts.index, autopct='%1.1f%%', \n",
    "              colors=['lightblue', 'lightpink'])\n",
    "axes[0,1].set_title('Gender Distribution', fontweight='bold')\n",
    "\n",
    # Race distribution\n",
    "race_counts = data['race'].value_counts()\n",
    "axes[1,0].bar(race_counts.index, race_counts.values, color='lightgreen')\n",
    "axes[1,0].set_title('Race Distribution', fontweight='bold')\n",
    "axes[1,0].set_xlabel('Race')\n",
    "axes[1,0].set_ylabel('Count')\n",
    "axes[1,0].tick_params(axis='x', rotation=45)\n",
    "\n",
    # Readmission by gender\n",
    "readmission_gender = data.groupby('gender')['readmitted_30'].mean() * 100\n",
    "axes[1,1].bar(readmission_gender.index, readmission_gender.values, \n",
    "              color=['lightblue', 'lightpink'])\n",
    "axes[1,1].set_title('Readmission Rate by Gender', fontweight='bold')\n",
    "axes[1,1].set_xlabel('Gender')\n",
    "axes[1,1].set_ylabel('Readmission Rate (%)')\n",
    "\n",
    "plt.tight_layout()\n",
    "plt.show()"
   ]
  },
  {
   "cell_type": "markdown",
   "metadata": {},
   "source": [
    "## 6. Correlation Analysis"
   ]
  },
  {
   "cell_type": "code",
   "execution_count": null,
   "metadata": {},
   "outputs": [],
   "source": [
    "# Select numeric features for correlation analysis\n",
    "numeric_features = [\n",
    "    'length_of_stay', 'num_lab_procedures', 'num_procedures',\n",
    "    'num_medications', 'number_outpatient', 'number_emergency',\n",
    "    'number_inpatient', 'number_diagnoses', 'age',\n",
    "    'RPL_THEME1', 'RPL_THEME2', 'RPL_THEME3', 'RPL_THEME4', 'RPL_TOTAL',\n",
    "    'readmitted_30'\n",
    "]\n",
    "\n",
    "# Compute correlation matrix\n",
    "correlation_matrix = data[numeric_features].corr()\n",
    "\n",
    "print(\"Top Correlations with Readmission:\")\n",
    "print(\"=\" * 50)\n",
    "readmission_correlations = correlation_matrix['readmitted_30'].sort_values(ascending=False)\n",
    "print(readmission_correlations.head(10))"
   ]
  },
  {
   "cell_type": "code",
   "execution_count": null,
   "metadata": {},
   "outputs": [],
   "source": [
    "# Visualize correlation matrix\n",
    "plt.figure(figsize=(14, 12))\n",
    "\n",
    "# Create mask for upper triangle\n",
    "mask = np.triu(np.ones_like(correlation_matrix, dtype=bool))\n",
    "\n",
    "sns.heatmap(correlation_matrix, \n",
    "            mask=mask,\n",
    "            annot=True, \n",
    "            cmap='RdBu_r', \n",
    "            center=0,\n",
    "            square=True,\n",
    "            fmt='.2f',\n",
    "            cbar_kws={\"shrink\": .8})\n",
    "\n",
    "plt.title('Correlation Matrix of Key Features', fontsize=16, fontweight='bold')\n",
    "plt.tight_layout()\n",
    "plt.show()"
   ]
  },
  {
   "cell_type": "markdown",
   "metadata": {},
   "source": [
    "## 7. Geographic Analysis"
   ]
  },
  {
   "cell_type": "code",
   "execution_count": null,
   "metadata": {},
   "outputs": [],
   "source": [
    "# Regional analysis\n",
    "print(\"Readmission Rates by State:\")\n",
    "print(\"=\" * 50)\n",
    "\n",
    "state_readmission = data.groupby('STATE_patient')['readmitted_30'].agg(['mean', 'count'])\n",
    "state_readmission['readmission_rate'] = state_readmission['mean'] * 100\n",
    "state_readmission = state_readmission.rename(columns={'count': 'patient_count'})\n",
    "state_readmission = state_readmission.sort_values('readmission_rate', ascending=False)\n",
    "\n",
    "print(state_readmission[['readmission_rate', 'patient_count']].head(10))"
   ]
  },
  {
   "cell_type": "code",
   "execution_count": null,
   "metadata": {},
   "outputs": [],
   "source": [
    "# Visualize state-level readmission rates\n",
    "plt.figure(figsize=(12, 6))\n",
    "top_states = state_readmission.head(10)\n",
    "\n",
    "bars = plt.bar(top_states.index, top_states['readmission_rate'], \n",
    "               color=plt.cm.Reds(np.linspace(0.4, 1, len(top_states))))\n",
    "\n",
    "plt.title('Top 10 States by Readmission Rate', fontsize=14, fontweight='bold')\n",
    "plt.xlabel('State')\n",
    "plt.ylabel('Readmission Rate (%)')\n",
    "plt.xticks(rotation=45)\n",
    "\n",
    "# Add value labels\n",
    "for bar in bars:\n",
    "    height = bar.get_height()\n",
    "    plt.text(bar.get_x() + bar.get_width()/2., height + 0.1,\n",
    "             f'{height:.1f}%', ha='center', va='bottom')\n",
    "\n",
    "plt.grid(axis='y', alpha=0.3)\n",
    "plt.tight_layout()\n",
    "plt.show()"
   ]
  },
  {
   "cell_type": "markdown",
   "metadata": {},
   "source": [
    "## 8. Key Insights and Summary"
   ]
  },
  {
   "cell_type": "code",
   "execution_count": null,
   "metadata": {},
   "outputs": [],
   "source": [
    "# Summary of key findings\n",
    "print(\"KEY EDA INSIGHTS\")\n",
    "print(\"=\" * 60)\n",
    "\n",
    "# 1. Target variable insights\n",
    "total_patients = len(data)\n",
    "readmitted_30_count = data['readmitted_30'].sum()\n",
    "readmission_rate = (readmitted_30_count / total_patients) * 100\n",
    "\n",
    "print(f\"1. TARGET DISTRIBUTION:\")\n",
    "print(f\"   • Total patients: {total_patients:,}\")\n",
    "print(f\"   • 30-day readmissions: {readmitted_30_count:,} ({readmission_rate:.1f}%)\")\n",
    "print(f\"   • Class imbalance: Significant (85:15 ratio)\")\n",
    "\n",
    "# 2. Medical insights\n",
    "print(f\"\\n2. MEDICAL INSIGHTS:\")\n",
    "print(f\"   • Avg length of stay: {data['length_of_stay'].mean():.1f} days\")\n",
    "print(f\"   • Avg medications: {data['num_medications'].mean():.1f}\")\n",
    "print(f\"   • Avg diagnoses: {data['number_diagnoses'].mean():.1f}\")\n",
    "\n",
    "# 3. SDOH insights\n",
    "print(f\"\\n3. SOCIAL DETERMINANTS INSIGHTS:\")\n",
    "print(f\"   • High SVI quartile readmission rate: {readmission_by_svi.loc['Q4 (High)', 'readmission_rate']:.1f}%\")\n",
    "print(f\"   • Low SVI quartile readmission rate: {readmission_by_svi.loc['Q1 (Low)', 'readmission_rate']:.1f}%\")\n",
    "print(f\"   • SVI impact: {readmission_by_svi.loc['Q4 (High)', 'readmission_rate'] - readmission_by_svi.loc['Q1 (Low)', 'readmission_rate']:.1f}% difference\")\n",
    "\n",
    "# 4. Demographic insights\n",
    "print(f\"\\n4. DEMOGRAPHIC INSIGHTS:\")\n",
    "print(f\"   • Average age: {data['age'].mean():.1f} years\")\n",
    "print(f\"   • Gender distribution: {data['gender'].value_counts(normalize=True).iloc[0]*100:.1f}% {data['gender'].value_counts().index[0]}\")\n",
    "\n",
    "# 5. Correlation insights\n",
    "top_correlations = readmission_correlations.head(6)\n",
    "print(f\"\\n5. TOP CORRELATIONS WITH READMISSION:\")\n",
    "for feature, corr in top_correlations.items():\n",
    "    if feature != 'readmitted_30':\n",
    "        print(f\"   • {feature}: {corr:.3f}\")\n",
    "\n",
    "print(\"\\n\" + \"=\" * 60)\n",
    "print(\"EDA COMPLETED SUCCESSFULLY!\")\n",
    "print(\"=\" * 60)"
   ]
  },
  {
   "cell_type": "markdown",
   "metadata": {},
   "source": [
    "## Next Steps\n",
    "\n",
    "Based on this EDA, the next steps are:\n",
    "1. **Feature Engineering**: Create composite features from medical and SDOH data\n",
    "2. **Handle Class Imbalance**: Apply SMOTE or other techniques\n",
    "3. **Model Training**: Train multiple ML models\n",
    "4. **Model Interpretation**: Use SHAP for explainability\n",
    "5. **Fairness Analysis**: Ensure equitable model performance"
   ]
  }
 ],
 "metadata": {
  "kernelspec": {
   "display_name": "Python 3",
   "language": "python",
   "name": "python3"
  },
  "language_info": {
   "codemirror_mode": {
    "name": "ipython",
    "version": 3
   },
   "file_extension": ".py",
   "mimetype": "text/x-python",
   "name": "python",
   "nbconvert_exporter": "python",
   "pygments_lexer": "ipython3",
   "version": "3.8.0"
  }
 },
 "nbformat": 4,
 "nbformat_minor": 4
}